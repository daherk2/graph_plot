{
 "cells": [
  {
   "cell_type": "code",
   "execution_count": 7,
   "metadata": {},
   "outputs": [],
   "source": [
    "import networkx as nx\n",
    "import pandas as pd\n",
    "import numpy as np\n",
    "import matplotlib.pyplot as plt"
   ]
  },
  {
   "cell_type": "code",
   "execution_count": 8,
   "metadata": {},
   "outputs": [],
   "source": [
    "G = nx.Graph()\n",
    "G.add_edges_from(\n",
    "    [('A', 'B'),('A', 'C'),('A','I'),\n",
    "     ('B', 'H'),('B', 'G'),('B', 'F'),('B', 'C'),\n",
    "     ('C', 'G'),('D', 'B'),('E', 'C'),('E', 'F'),\n",
    "     ('F','A'),('F','L')])"
   ]
  },
  {
   "cell_type": "code",
   "execution_count": 10,
   "metadata": {},
   "outputs": [
    {
     "name": "stdout",
     "output_type": "stream",
     "text": [
      "Total nodes:10\n",
      "['A', 'B', 'C', 'I', 'H', 'G', 'F', 'D', 'E', 'L']\n"
     ]
    }
   ],
   "source": [
    "grafo=G.nodes(data=False)\n",
    "len_grafo=len(grafo)\n",
    "print('Total nodes:'+str(len_grafo))\n",
    "print(grafo)"
   ]
  },
  {
   "cell_type": "code",
   "execution_count": 11,
   "metadata": {},
   "outputs": [
    {
     "name": "stdout",
     "output_type": "stream",
     "text": [
      "A B\n",
      "A C\n",
      "A I\n",
      "A F\n",
      "B H\n",
      "B G\n",
      "B F\n",
      "B C\n",
      "B D\n",
      "C G\n",
      "C E\n",
      "F E\n",
      "F L\n",
      "Total edge:13\n"
     ]
    }
   ],
   "source": [
    "u=0\n",
    "for line in nx.generate_edgelist(G, data=False):\n",
    "    u=u+1\n",
    "    print(line)\n",
    "\n",
    "print('Total edge:'+str(u))"
   ]
  },
  {
   "cell_type": "code",
   "execution_count": 12,
   "metadata": {},
   "outputs": [
    {
     "name": "stdout",
     "output_type": "stream",
     "text": [
      "Paths matrix\n",
      "   A  B  C  I  H  G  F  D  E  L\n",
      "A  0  1  1  1  2  2  1  2  2  2\n",
      "B  1  0  1  2  1  1  1  1  2  2\n",
      "C  1  1  0  2  2  1  2  2  1  3\n",
      "I  1  2  2  0  3  3  2  3  3  3\n",
      "H  2  1  2  3  0  2  2  2  3  3\n",
      "G  2  1  1  3  2  0  2  2  2  3\n",
      "F  1  1  2  2  2  2  0  2  1  1\n",
      "D  2  1  2  3  2  2  2  0  3  3\n",
      "E  2  2  1  3  3  2  1  3  0  2\n",
      "L  2  2  3  3  3  3  1  3  2  0\n"
     ]
    }
   ],
   "source": [
    "print('Paths matrix')\n",
    "mat=np.zeros((len(grafo),len(grafo)))\n",
    "\n",
    "m=[]\n",
    "for u in grafo:\n",
    "    for i in grafo:\n",
    "        r=nx.shortest_path_length(G, source=u, target=i)\n",
    "        m.append(r)\n",
    "m=np.reshape(m,(len_grafo,len_grafo))\n",
    "#print(m)\n",
    "dataframe=pd.DataFrame(m,columns=grafo,index=grafo)\n",
    "print(dataframe)"
   ]
  },
  {
   "cell_type": "code",
   "execution_count": 13,
   "metadata": {},
   "outputs": [
    {
     "data": {
      "image/png": "[encoded data removed]",
      "text/plain": [
       "<Figure size 432x288 with 1 Axes>"
      ]
     },
     "metadata": {},
     "output_type": "display_data"
    },
    {
     "name": "stdout",
     "output_type": "stream",
     "text": [
      "End!\n"
     ]
    }
   ],
   "source": [
    "#plot do grafo\n",
    "nx.draw(G, with_labels=True)\n",
    "plt.show()\n",
    "print('End!')"
   ]
  },
  {
   "cell_type": "code",
   "execution_count": null,
   "metadata": {},
   "outputs": [],
   "source": []
  },
  {
   "cell_type": "code",
   "execution_count": null,
   "metadata": {},
   "outputs": [],
   "source": []
  }
 ],
 "metadata": {
  "kernelspec": {
   "display_name": "Python 3",
   "language": "python",
   "name": "python3"
  },
  "language_info": {
   "codemirror_mode": {
    "name": "ipython",
    "version": 3
   },
   "file_extension": ".py",
   "mimetype": "text/x-python",
   "name": "python",
   "nbconvert_exporter": "python",
   "pygments_lexer": "ipython3",
   "version": "3.6.9"
  }
 },
 "nbformat": 4,
 "nbformat_minor": 2
}
